{
 "cells": [
  {
   "cell_type": "code",
   "execution_count": 29,
   "metadata": {},
   "outputs": [],
   "source": [
    "import pandas as pd\n",
    "import numpy as np\n",
    "import matplotlib.pyplot as plt\n",
    "import seaborn as sns\n",
    "import warnings\n",
    "warnings.filterwarnings('ignore')\n",
    "import os\n",
    "import glob\n",
    "\n",
    "from datetime import timedelta, datetime\n",
    "from dateutil.relativedelta import relativedelta\n",
    "\n",
    "from sklearn.cluster import KMeans\n",
    "from sklearn.preprocessing import StandardScaler\n",
    "%matplotlib inline"
   ]
  },
  {
   "attachments": {},
   "cell_type": "markdown",
   "metadata": {},
   "source": [
    "## Analytics - Part2 (Customer Segmentation)\n",
    "- RFM\n",
    "- Elbow method & Silhouette score\n",
    "- Kmeans\n",
    "- Visualization of Clusters\n"
   ]
  },
  {
   "attachments": {},
   "cell_type": "markdown",
   "metadata": {},
   "source": [
    "*******************************************************************************************************************************************************************\n",
    "### RFM Segmentation\n",
    "- RFM segmentation refers to a common method used for customer segmentation based on the concepts of Recency, Frequency, and Monetary Value. RFM analysis is widely used in marketing and customer analytics to identify and group customers based on their purchasing behavior. Additionally, I will use an extra feature, which is the number of unique categories that each customer bought. So, basically, RFM + $\\alpha$ method will be applied for the customer segmentation in the following section."
   ]
  },
  {
   "attachments": {},
   "cell_type": "markdown",
   "metadata": {},
   "source": [
    "### Load data"
   ]
  },
  {
   "cell_type": "code",
   "execution_count": 33,
   "metadata": {},
   "outputs": [
    {
     "name": "stdout",
     "output_type": "stream",
     "text": [
      "customer_unique_id          0\n",
      "order_id                    0\n",
      "order_status                0\n",
      "product_category_name       0\n",
      "order_purchase_timestamp    0\n",
      "payment_value               0\n",
      "dtype: int64\n",
      "\n",
      "(116581, 6)\n"
     ]
    }
   ],
   "source": [
    "features = ['customer_unique_id', 'order_id', 'order_status', 'product_category_name', 'order_purchase_timestamp', 'payment_value']\n",
    "df = pd.read_csv(\"./datasets/olist_master.csv\")\n",
    "df = df[features]\n",
    "print(df.isna().sum())\n",
    "print()\n",
    "print(df.shape)"
   ]
  },
  {
   "attachments": {},
   "cell_type": "markdown",
   "metadata": {},
   "source": [
    "### Preprocessing & RFM + $\\alpha$ Analysis"
   ]
  },
  {
   "cell_type": "code",
   "execution_count": 34,
   "metadata": {},
   "outputs": [
    {
     "data": {
      "text/html": [
       "<div>\n",
       "<style scoped>\n",
       "    .dataframe tbody tr th:only-of-type {\n",
       "        vertical-align: middle;\n",
       "    }\n",
       "\n",
       "    .dataframe tbody tr th {\n",
       "        vertical-align: top;\n",
       "    }\n",
       "\n",
       "    .dataframe thead th {\n",
       "        text-align: right;\n",
       "    }\n",
       "</style>\n",
       "<table border=\"1\" class=\"dataframe\">\n",
       "  <thead>\n",
       "    <tr style=\"text-align: right;\">\n",
       "      <th></th>\n",
       "      <th>customer_unique_id</th>\n",
       "      <th>order_id</th>\n",
       "      <th>order_status</th>\n",
       "      <th>product_category_name</th>\n",
       "      <th>order_purchase_timestamp</th>\n",
       "      <th>payment_value</th>\n",
       "      <th>created_at</th>\n",
       "    </tr>\n",
       "  </thead>\n",
       "  <tbody>\n",
       "    <tr>\n",
       "      <th>0</th>\n",
       "      <td>5ee8fe956c2631afc0a1dcc1920d0e3d</td>\n",
       "      <td>00010242fe8c5a6d1ba2dd792cb16214</td>\n",
       "      <td>delivered</td>\n",
       "      <td>Cool Stuff</td>\n",
       "      <td>2017-09-13</td>\n",
       "      <td>72.19</td>\n",
       "      <td>2017-09-13</td>\n",
       "    </tr>\n",
       "    <tr>\n",
       "      <th>1</th>\n",
       "      <td>8b3f917f4307d3e5cf34c0b43d6e6f50</td>\n",
       "      <td>130898c0987d1801452a8ed92a670612</td>\n",
       "      <td>delivered</td>\n",
       "      <td>Cool Stuff</td>\n",
       "      <td>2017-06-28</td>\n",
       "      <td>73.86</td>\n",
       "      <td>2017-06-28</td>\n",
       "    </tr>\n",
       "    <tr>\n",
       "      <th>2</th>\n",
       "      <td>69ba88e17ea574da9c9b8c8834a583d1</td>\n",
       "      <td>532ed5e14e24ae1f0d735b91524b98b9</td>\n",
       "      <td>delivered</td>\n",
       "      <td>Cool Stuff</td>\n",
       "      <td>2018-05-18</td>\n",
       "      <td>83.23</td>\n",
       "      <td>2018-05-18</td>\n",
       "    </tr>\n",
       "    <tr>\n",
       "      <th>3</th>\n",
       "      <td>cbe063493a222cb17024ff0285b4ecb6</td>\n",
       "      <td>6f8c31653edb8c83e1a739408b5ff750</td>\n",
       "      <td>delivered</td>\n",
       "      <td>Cool Stuff</td>\n",
       "      <td>2017-08-01</td>\n",
       "      <td>75.07</td>\n",
       "      <td>2017-08-01</td>\n",
       "    </tr>\n",
       "    <tr>\n",
       "      <th>4</th>\n",
       "      <td>ffab5330bd7b40979ab6726b2e02292e</td>\n",
       "      <td>7d19f4ef4d04461989632411b7e588b9</td>\n",
       "      <td>delivered</td>\n",
       "      <td>Cool Stuff</td>\n",
       "      <td>2017-08-10</td>\n",
       "      <td>72.19</td>\n",
       "      <td>2017-08-10</td>\n",
       "    </tr>\n",
       "  </tbody>\n",
       "</table>\n",
       "</div>"
      ],
      "text/plain": [
       "                 customer_unique_id                          order_id  \\\n",
       "0  5ee8fe956c2631afc0a1dcc1920d0e3d  00010242fe8c5a6d1ba2dd792cb16214   \n",
       "1  8b3f917f4307d3e5cf34c0b43d6e6f50  130898c0987d1801452a8ed92a670612   \n",
       "2  69ba88e17ea574da9c9b8c8834a583d1  532ed5e14e24ae1f0d735b91524b98b9   \n",
       "3  cbe063493a222cb17024ff0285b4ecb6  6f8c31653edb8c83e1a739408b5ff750   \n",
       "4  ffab5330bd7b40979ab6726b2e02292e  7d19f4ef4d04461989632411b7e588b9   \n",
       "\n",
       "  order_status product_category_name order_purchase_timestamp  payment_value  \\\n",
       "0    delivered            Cool Stuff               2017-09-13          72.19   \n",
       "1    delivered            Cool Stuff               2017-06-28          73.86   \n",
       "2    delivered            Cool Stuff               2018-05-18          83.23   \n",
       "3    delivered            Cool Stuff               2017-08-01          75.07   \n",
       "4    delivered            Cool Stuff               2017-08-10          72.19   \n",
       "\n",
       "  created_at  \n",
       "0 2017-09-13  \n",
       "1 2017-06-28  \n",
       "2 2018-05-18  \n",
       "3 2017-08-01  \n",
       "4 2017-08-10  "
      ]
     },
     "execution_count": 34,
     "metadata": {},
     "output_type": "execute_result"
    }
   ],
   "source": [
    "#preprocessing\n",
    "df = df[df.order_status == 'delivered'].reset_index(drop=True)\n",
    "df.order_purchase_timestamp = df.order_purchase_timestamp.str.slice(0,10)\n",
    "df['created_at'] = df.order_purchase_timestamp.apply(lambda x: pd.to_datetime(x, format = \"%Y-%m-%d\"))\n",
    "df.drop_duplicates(inplace=True)\n",
    "df.head()"
   ]
  },
  {
   "cell_type": "code",
   "execution_count": 77,
   "metadata": {},
   "outputs": [],
   "source": [
    "#rfm + number of categories\n",
    "class calculate_rfm():\n",
    "    def __init__(self, df):\n",
    "        self.df = df \n",
    "        self.df.created_at = pd.to_datetime(self.df.created_at)\n",
    "        \n",
    "    def calculate_rfm_modified(self):        \n",
    "        data = df.sort_values(by=['customer_unique_id', 'created_at'])\n",
    "        # frequency\n",
    "        df_tmp = data[['customer_unique_id', 'created_at']].copy().drop_duplicates()\n",
    "        df_tmp['rn'] = df_tmp.groupby('customer_unique_id')['created_at'].cumcount() + 1 \n",
    "        df_tmp['rn_idx'] = df_tmp.rn - 1\n",
    "        df_freq_tmp = pd.merge(df_tmp, df_tmp,\n",
    "                               left_on=['customer_unique_id', 'rn'],\n",
    "                               right_on=['customer_unique_id', 'rn_idx'],\n",
    "                               how='left')\n",
    "        df_freq_tmp['frequency'] = (df_freq_tmp.created_at_y - df_freq_tmp.created_at_x).dt.days\n",
    "        df_rfm = df_freq_tmp.groupby('customer_unique_id', as_index=False).frequency.mean().fillna(0)\n",
    "        \n",
    "        # order_count, monetary, nproduct\n",
    "        df_rfm = pd.merge(df_rfm,\n",
    "                          data.groupby('customer_unique_id', as_index=False).agg(orders=('order_id', 'count'),\n",
    "                                                                          monetary=('payment_value', 'sum'),\n",
    "                                                                          n_categories=('product_category_name', 'nunique')),\n",
    "                          on='customer_unique_id',\n",
    "                          how='left')\n",
    "        \n",
    "        # recency\n",
    "        df_rfm = pd.merge(df_rfm, \n",
    "                          data.groupby('customer_unique_id', as_index=False).agg(recency=('created_at', 'max')),\n",
    "                          on = 'customer_unique_id',\n",
    "                          how = 'left')\n",
    "        df_rfm['recency'] = (data.created_at.max() - df_rfm.recency).dt.days\n",
    "        \n",
    "        df_rfm = df_rfm.set_index('customer_unique_id')\n",
    "        \n",
    "        return df_rfm\n",
    "    \n",
    "    def viz_rfm(self, rfm):\n",
    "        plt.figure(figsize = (16, 14))\n",
    "        \n",
    "        plt.subplot(4,1,1)\n",
    "        sns.distplot(rfm.recency)\n",
    "        # plt.title(\"Distribution of Recency\")\n",
    "\n",
    "        plt.subplot(4,1,2)\n",
    "        sns.distplot(rfm.frequency)\n",
    "        # plt.title('Distribution of Frequency')\n",
    "\n",
    "        plt.subplot(4,1,3)\n",
    "        sns.distplot(rfm.monetary)\n",
    "        # plt.title(\"Distribution of Monetary\")\n",
    "\n",
    "        plt.subplot(4,1,4)\n",
    "        sns.distplot(rfm.n_categories)\n",
    "        # plt.title('Distribution of number of categories bought')\n",
    "\n",
    "        plt.show()"
   ]
  },
  {
   "cell_type": "code",
   "execution_count": 78,
   "metadata": {},
   "outputs": [],
   "source": [
    "rfm_class = calculate_rfm(df)\n",
    "df_rfm = rfm_class.calculate_rfm_modified()"
   ]
  },
  {
   "cell_type": "code",
   "execution_count": 79,
   "metadata": {},
   "outputs": [
    {
     "data": {
      "text/html": [
       "<div>\n",
       "<style scoped>\n",
       "    .dataframe tbody tr th:only-of-type {\n",
       "        vertical-align: middle;\n",
       "    }\n",
       "\n",
       "    .dataframe tbody tr th {\n",
       "        vertical-align: top;\n",
       "    }\n",
       "\n",
       "    .dataframe thead th {\n",
       "        text-align: right;\n",
       "    }\n",
       "</style>\n",
       "<table border=\"1\" class=\"dataframe\">\n",
       "  <thead>\n",
       "    <tr style=\"text-align: right;\">\n",
       "      <th></th>\n",
       "      <th>frequency</th>\n",
       "      <th>orders</th>\n",
       "      <th>monetary</th>\n",
       "      <th>n_categories</th>\n",
       "      <th>recency</th>\n",
       "    </tr>\n",
       "    <tr>\n",
       "      <th>customer_unique_id</th>\n",
       "      <th></th>\n",
       "      <th></th>\n",
       "      <th></th>\n",
       "      <th></th>\n",
       "      <th></th>\n",
       "    </tr>\n",
       "  </thead>\n",
       "  <tbody>\n",
       "    <tr>\n",
       "      <th>0000b849f77a49e4a4ce2b2a4ca5be3f</th>\n",
       "      <td>111.0</td>\n",
       "      <td>2</td>\n",
       "      <td>136.26</td>\n",
       "      <td>2</td>\n",
       "      <td>169</td>\n",
       "    </tr>\n",
       "    <tr>\n",
       "      <th>0000f46a3911fa3c0805444483337064</th>\n",
       "      <td>134.0</td>\n",
       "      <td>3</td>\n",
       "      <td>583.87</td>\n",
       "      <td>3</td>\n",
       "      <td>125</td>\n",
       "    </tr>\n",
       "    <tr>\n",
       "      <th>0004bd2a26a76fe21f786e4fbd80607f</th>\n",
       "      <td>218.5</td>\n",
       "      <td>3</td>\n",
       "      <td>336.11</td>\n",
       "      <td>3</td>\n",
       "      <td>7</td>\n",
       "    </tr>\n",
       "    <tr>\n",
       "      <th>00050ab1314c0e55a6ca13cf7181fecf</th>\n",
       "      <td>0.0</td>\n",
       "      <td>1</td>\n",
       "      <td>80.18</td>\n",
       "      <td>1</td>\n",
       "      <td>219</td>\n",
       "    </tr>\n",
       "    <tr>\n",
       "      <th>0005ef4cd20d2893f0d9fbd94d3c0d97</th>\n",
       "      <td>0.0</td>\n",
       "      <td>1</td>\n",
       "      <td>187.91</td>\n",
       "      <td>1</td>\n",
       "      <td>481</td>\n",
       "    </tr>\n",
       "  </tbody>\n",
       "</table>\n",
       "</div>"
      ],
      "text/plain": [
       "                                  frequency  orders  monetary  n_categories  \\\n",
       "customer_unique_id                                                            \n",
       "0000b849f77a49e4a4ce2b2a4ca5be3f      111.0       2    136.26             2   \n",
       "0000f46a3911fa3c0805444483337064      134.0       3    583.87             3   \n",
       "0004bd2a26a76fe21f786e4fbd80607f      218.5       3    336.11             3   \n",
       "00050ab1314c0e55a6ca13cf7181fecf        0.0       1     80.18             1   \n",
       "0005ef4cd20d2893f0d9fbd94d3c0d97        0.0       1    187.91             1   \n",
       "\n",
       "                                  recency  \n",
       "customer_unique_id                         \n",
       "0000b849f77a49e4a4ce2b2a4ca5be3f      169  \n",
       "0000f46a3911fa3c0805444483337064      125  \n",
       "0004bd2a26a76fe21f786e4fbd80607f        7  \n",
       "00050ab1314c0e55a6ca13cf7181fecf      219  \n",
       "0005ef4cd20d2893f0d9fbd94d3c0d97      481  "
      ]
     },
     "execution_count": 79,
     "metadata": {},
     "output_type": "execute_result"
    }
   ],
   "source": [
    "df_rfm.head()"
   ]
  },
  {
   "cell_type": "code",
   "execution_count": 80,
   "metadata": {},
   "outputs": [
    {
     "data": {
      "image/png": "[encoded data removed]",
      "text/plain": [
       "<Figure size 1152x1008 with 4 Axes>"
      ]
     },
     "metadata": {
      "needs_background": "light"
     },
     "output_type": "display_data"
    }
   ],
   "source": [
    "rfm_class.viz_rfm(df_rfm)"
   ]
  },
  {
   "attachments": {},
   "cell_type": "markdown",
   "metadata": {},
   "source": [
    "### Segmentation"
   ]
  },
  {
   "cell_type": "code",
   "execution_count": null,
   "metadata": {},
   "outputs": [],
   "source": []
  }
 ],
 "metadata": {
  "kernelspec": {
   "display_name": "Python 3",
   "language": "python",
   "name": "python3"
  },
  "language_info": {
   "codemirror_mode": {
    "name": "ipython",
    "version": 3
   },
   "file_extension": ".py",
   "mimetype": "text/x-python",
   "name": "python",
   "nbconvert_exporter": "python",
   "pygments_lexer": "ipython3",
   "version": "3.10.1"
  },
  "orig_nbformat": 4
 },
 "nbformat": 4,
 "nbformat_minor": 2
}
