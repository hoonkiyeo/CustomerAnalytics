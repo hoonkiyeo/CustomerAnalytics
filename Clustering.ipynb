{
 "cells": [
  {
   "cell_type": "code",
   "execution_count": 27,
   "metadata": {},
   "outputs": [],
   "source": [
    "import pandas as pd\n",
    "import numpy as np\n",
    "import matplotlib.pyplot as plt\n",
    "from matplotlib.ticker import FixedLocator, FixedFormatter\n",
    "import matplotlib as mpl\n",
    "import seaborn as sns\n",
    "import warnings\n",
    "warnings.filterwarnings('ignore')\n",
    "import os\n",
    "import glob\n",
    "\n",
    "from datetime import timedelta, datetime\n",
    "from dateutil.relativedelta import relativedelta\n",
    "\n",
    "from sklearn.cluster import KMeans\n",
    "from sklearn.preprocessing import StandardScaler\n",
    "from sklearn.metrics import silhouette_score\n",
    "from sklearn.metrics import silhouette_samples\n",
    "from sklearn.pipeline import Pipeline\n",
    "%matplotlib inline"
   ]
  },
  {
   "attachments": {},
   "cell_type": "markdown",
   "metadata": {},
   "source": [
    "## Analytics - Part2 (Customer Segmentation)\n",
    "- RFM\n",
    "- Elbow method & Silhouette score\n",
    "- Kmeans\n",
    "- Visualization of Clusters\n"
   ]
  },
  {
   "attachments": {},
   "cell_type": "markdown",
   "metadata": {},
   "source": [
    "*******************************************************************************************************************************************************************\n",
    "### RFM Segmentation\n",
    "- RFM segmentation refers to a common method used for customer segmentation based on the concepts of Recency, Frequency, and Monetary Value. RFM analysis is widely used in marketing and customer analytics to identify and group customers based on their purchasing behavior."
   ]
  },
  {
   "attachments": {},
   "cell_type": "markdown",
   "metadata": {},
   "source": [
    "### Load data"
   ]
  },
  {
   "cell_type": "code",
   "execution_count": 2,
   "metadata": {},
   "outputs": [
    {
     "name": "stdout",
     "output_type": "stream",
     "text": [
      "customer_unique_id          0\n",
      "order_id                    0\n",
      "order_status                0\n",
      "product_category_name       0\n",
      "order_purchase_timestamp    0\n",
      "payment_value               0\n",
      "dtype: int64\n",
      "\n",
      "(116581, 6)\n"
     ]
    }
   ],
   "source": [
    "features = ['customer_unique_id', 'order_id', 'order_status', 'product_category_name', 'order_purchase_timestamp', 'payment_value']\n",
    "df = pd.read_csv(\"./datasets/olist_master.csv\")\n",
    "df = df[features]\n",
    "print(df.isna().sum())\n",
    "print()\n",
    "print(df.shape)"
   ]
  },
  {
   "attachments": {},
   "cell_type": "markdown",
   "metadata": {},
   "source": [
    "### Preprocessing & RFM Analysis"
   ]
  },
  {
   "cell_type": "code",
   "execution_count": 3,
   "metadata": {},
   "outputs": [
    {
     "data": {
      "text/html": [
       "<div>\n",
       "<style scoped>\n",
       "    .dataframe tbody tr th:only-of-type {\n",
       "        vertical-align: middle;\n",
       "    }\n",
       "\n",
       "    .dataframe tbody tr th {\n",
       "        vertical-align: top;\n",
       "    }\n",
       "\n",
       "    .dataframe thead th {\n",
       "        text-align: right;\n",
       "    }\n",
       "</style>\n",
       "<table border=\"1\" class=\"dataframe\">\n",
       "  <thead>\n",
       "    <tr style=\"text-align: right;\">\n",
       "      <th></th>\n",
       "      <th>customer_unique_id</th>\n",
       "      <th>order_id</th>\n",
       "      <th>order_status</th>\n",
       "      <th>product_category_name</th>\n",
       "      <th>order_purchase_timestamp</th>\n",
       "      <th>payment_value</th>\n",
       "      <th>created_at</th>\n",
       "    </tr>\n",
       "  </thead>\n",
       "  <tbody>\n",
       "    <tr>\n",
       "      <th>0</th>\n",
       "      <td>5ee8fe956c2631afc0a1dcc1920d0e3d</td>\n",
       "      <td>00010242fe8c5a6d1ba2dd792cb16214</td>\n",
       "      <td>delivered</td>\n",
       "      <td>Cool Stuff</td>\n",
       "      <td>2017-09-13</td>\n",
       "      <td>72.19</td>\n",
       "      <td>2017-09-13</td>\n",
       "    </tr>\n",
       "    <tr>\n",
       "      <th>1</th>\n",
       "      <td>8b3f917f4307d3e5cf34c0b43d6e6f50</td>\n",
       "      <td>130898c0987d1801452a8ed92a670612</td>\n",
       "      <td>delivered</td>\n",
       "      <td>Cool Stuff</td>\n",
       "      <td>2017-06-28</td>\n",
       "      <td>73.86</td>\n",
       "      <td>2017-06-28</td>\n",
       "    </tr>\n",
       "    <tr>\n",
       "      <th>2</th>\n",
       "      <td>69ba88e17ea574da9c9b8c8834a583d1</td>\n",
       "      <td>532ed5e14e24ae1f0d735b91524b98b9</td>\n",
       "      <td>delivered</td>\n",
       "      <td>Cool Stuff</td>\n",
       "      <td>2018-05-18</td>\n",
       "      <td>83.23</td>\n",
       "      <td>2018-05-18</td>\n",
       "    </tr>\n",
       "    <tr>\n",
       "      <th>3</th>\n",
       "      <td>cbe063493a222cb17024ff0285b4ecb6</td>\n",
       "      <td>6f8c31653edb8c83e1a739408b5ff750</td>\n",
       "      <td>delivered</td>\n",
       "      <td>Cool Stuff</td>\n",
       "      <td>2017-08-01</td>\n",
       "      <td>75.07</td>\n",
       "      <td>2017-08-01</td>\n",
       "    </tr>\n",
       "    <tr>\n",
       "      <th>4</th>\n",
       "      <td>ffab5330bd7b40979ab6726b2e02292e</td>\n",
       "      <td>7d19f4ef4d04461989632411b7e588b9</td>\n",
       "      <td>delivered</td>\n",
       "      <td>Cool Stuff</td>\n",
       "      <td>2017-08-10</td>\n",
       "      <td>72.19</td>\n",
       "      <td>2017-08-10</td>\n",
       "    </tr>\n",
       "  </tbody>\n",
       "</table>\n",
       "</div>"
      ],
      "text/plain": [
       "                 customer_unique_id                          order_id  \\\n",
       "0  5ee8fe956c2631afc0a1dcc1920d0e3d  00010242fe8c5a6d1ba2dd792cb16214   \n",
       "1  8b3f917f4307d3e5cf34c0b43d6e6f50  130898c0987d1801452a8ed92a670612   \n",
       "2  69ba88e17ea574da9c9b8c8834a583d1  532ed5e14e24ae1f0d735b91524b98b9   \n",
       "3  cbe063493a222cb17024ff0285b4ecb6  6f8c31653edb8c83e1a739408b5ff750   \n",
       "4  ffab5330bd7b40979ab6726b2e02292e  7d19f4ef4d04461989632411b7e588b9   \n",
       "\n",
       "  order_status product_category_name order_purchase_timestamp  payment_value  \\\n",
       "0    delivered            Cool Stuff               2017-09-13          72.19   \n",
       "1    delivered            Cool Stuff               2017-06-28          73.86   \n",
       "2    delivered            Cool Stuff               2018-05-18          83.23   \n",
       "3    delivered            Cool Stuff               2017-08-01          75.07   \n",
       "4    delivered            Cool Stuff               2017-08-10          72.19   \n",
       "\n",
       "  created_at  \n",
       "0 2017-09-13  \n",
       "1 2017-06-28  \n",
       "2 2018-05-18  \n",
       "3 2017-08-01  \n",
       "4 2017-08-10  "
      ]
     },
     "execution_count": 3,
     "metadata": {},
     "output_type": "execute_result"
    }
   ],
   "source": [
    "#preprocessing\n",
    "df = df[df.order_status == 'delivered'].reset_index(drop=True)\n",
    "df.order_purchase_timestamp = df.order_purchase_timestamp.str.slice(0,10)\n",
    "df['created_at'] = df.order_purchase_timestamp.apply(lambda x: pd.to_datetime(x, format = \"%Y-%m-%d\"))\n",
    "df.drop_duplicates(inplace=True)\n",
    "df.head()"
   ]
  },
  {
   "attachments": {},
   "cell_type": "markdown",
   "metadata": {},
   "source": [
    "- RFM calculation & Distributions"
   ]
  },
  {
   "cell_type": "code",
   "execution_count": 15,
   "metadata": {},
   "outputs": [],
   "source": [
    "class calculate_rfm():\n",
    "    def __init__(self, df: pd.DataFrame):\n",
    "        self.df = df\n",
    "        self.df.created_at = pd.to_datetime(self.df.created_at)\n",
    "        \n",
    "    def calculate_rfm_modified(self):        \n",
    "        data = df.sort_values(by=['customer_unique_id', 'created_at'])\n",
    "        # frequency\n",
    "        df_tmp = data[['customer_unique_id', 'created_at']].copy().drop_duplicates()\n",
    "        df_tmp['rn'] = df_tmp.groupby('customer_unique_id')['created_at'].cumcount() + 1 \n",
    "        df_tmp['rn_idx'] = df_tmp.rn - 1\n",
    "        df_freq_tmp = pd.merge(df_tmp, df_tmp,\n",
    "                               left_on=['customer_unique_id', 'rn'],\n",
    "                               right_on=['customer_unique_id', 'rn_idx'],\n",
    "                               how='left')\n",
    "        df_freq_tmp['frequency'] = (df_freq_tmp.created_at_y - df_freq_tmp.created_at_x).dt.days\n",
    "        df_rfm = df_freq_tmp.groupby('customer_unique_id', as_index=False).frequency.mean().fillna(0)\n",
    "        \n",
    "        # order_count, monetary, nproduct\n",
    "        df_rfm = pd.merge(df_rfm,\n",
    "                          data.groupby('customer_unique_id', as_index=False).agg(monetary=('payment_value', 'sum')),\n",
    "                          on='customer_unique_id',\n",
    "                          how='left')\n",
    "        \n",
    "        # recency\n",
    "        df_rfm = pd.merge(df_rfm, \n",
    "                          data.groupby('customer_unique_id', as_index=False).agg(recency=('created_at', 'max')),\n",
    "                          on = 'customer_unique_id',\n",
    "                          how = 'left')\n",
    "        df_rfm['recency'] = (data.created_at.max() - df_rfm.recency).dt.days\n",
    "        \n",
    "        df_rfm = df_rfm.set_index('customer_unique_id')\n",
    "        \n",
    "        return df_rfm\n",
    "    \n",
    "    def viz_rfm(self, rfm):\n",
    "        plt.figure(figsize = (18, 16))\n",
    "        \n",
    "        plt.subplot(3,1,1)\n",
    "        sns.distplot(rfm.recency)\n",
    "        # plt.title(\"Distribution of Recency\")\n",
    "\n",
    "        plt.subplot(3,1,2)\n",
    "        sns.distplot(rfm.frequency)\n",
    "        # plt.title('Distribution of Frequency')\n",
    "\n",
    "        plt.subplot(3,1,3)\n",
    "        sns.distplot(rfm.monetary)\n",
    "        # plt.title(\"Distribution of Monetary\")\n",
    "        \n",
    "        plt.show()"
   ]
  },
  {
   "cell_type": "code",
   "execution_count": 16,
   "metadata": {},
   "outputs": [
    {
     "data": {
      "text/html": [
       "<div>\n",
       "<style scoped>\n",
       "    .dataframe tbody tr th:only-of-type {\n",
       "        vertical-align: middle;\n",
       "    }\n",
       "\n",
       "    .dataframe tbody tr th {\n",
       "        vertical-align: top;\n",
       "    }\n",
       "\n",
       "    .dataframe thead th {\n",
       "        text-align: right;\n",
       "    }\n",
       "</style>\n",
       "<table border=\"1\" class=\"dataframe\">\n",
       "  <thead>\n",
       "    <tr style=\"text-align: right;\">\n",
       "      <th></th>\n",
       "      <th>frequency</th>\n",
       "      <th>monetary</th>\n",
       "      <th>recency</th>\n",
       "    </tr>\n",
       "    <tr>\n",
       "      <th>customer_unique_id</th>\n",
       "      <th></th>\n",
       "      <th></th>\n",
       "      <th></th>\n",
       "    </tr>\n",
       "  </thead>\n",
       "  <tbody>\n",
       "    <tr>\n",
       "      <th>0000b849f77a49e4a4ce2b2a4ca5be3f</th>\n",
       "      <td>111.0</td>\n",
       "      <td>136.26</td>\n",
       "      <td>169</td>\n",
       "    </tr>\n",
       "    <tr>\n",
       "      <th>0000f46a3911fa3c0805444483337064</th>\n",
       "      <td>134.0</td>\n",
       "      <td>583.87</td>\n",
       "      <td>125</td>\n",
       "    </tr>\n",
       "    <tr>\n",
       "      <th>0004bd2a26a76fe21f786e4fbd80607f</th>\n",
       "      <td>218.5</td>\n",
       "      <td>336.11</td>\n",
       "      <td>7</td>\n",
       "    </tr>\n",
       "    <tr>\n",
       "      <th>00050ab1314c0e55a6ca13cf7181fecf</th>\n",
       "      <td>0.0</td>\n",
       "      <td>80.18</td>\n",
       "      <td>219</td>\n",
       "    </tr>\n",
       "    <tr>\n",
       "      <th>0005ef4cd20d2893f0d9fbd94d3c0d97</th>\n",
       "      <td>0.0</td>\n",
       "      <td>187.91</td>\n",
       "      <td>481</td>\n",
       "    </tr>\n",
       "  </tbody>\n",
       "</table>\n",
       "</div>"
      ],
      "text/plain": [
       "                                  frequency  monetary  recency\n",
       "customer_unique_id                                            \n",
       "0000b849f77a49e4a4ce2b2a4ca5be3f      111.0    136.26      169\n",
       "0000f46a3911fa3c0805444483337064      134.0    583.87      125\n",
       "0004bd2a26a76fe21f786e4fbd80607f      218.5    336.11        7\n",
       "00050ab1314c0e55a6ca13cf7181fecf        0.0     80.18      219\n",
       "0005ef4cd20d2893f0d9fbd94d3c0d97        0.0    187.91      481"
      ]
     },
     "execution_count": 16,
     "metadata": {},
     "output_type": "execute_result"
    }
   ],
   "source": [
    "rfm_class = calculate_rfm(df)\n",
    "df_rfm = rfm_class.calculate_rfm_modified()\n",
    "df_rfm.head()"
   ]
  },
  {
   "cell_type": "code",
   "execution_count": 17,
   "metadata": {},
   "outputs": [
    {
     "data": {
      "image/png": "[encoded data removed]",
      "text/plain": [
       "<Figure size 1296x1152 with 3 Axes>"
      ]
     },
     "metadata": {
      "needs_background": "light"
     },
     "output_type": "display_data"
    }
   ],
   "source": [
    "rfm_class.viz_rfm(df_rfm)"
   ]
  },
  {
   "attachments": {},
   "cell_type": "markdown",
   "metadata": {},
   "source": [
    "### Elbow method & silhouette score to find the optimal $k$ "
   ]
  },
  {
   "cell_type": "code",
   "execution_count": 24,
   "metadata": {},
   "outputs": [],
   "source": [
    "class Segmentation():\n",
    "    def __init__(self, df_rfm: pd.DataFrame):\n",
    "        self.df_rfm = df_rfm\n",
    "\n",
    "    def scaler(self):\n",
    "        scaler = StandardScaler()\n",
    "        scaled_rfm = scaler.fit_transform(df_rfm)\n",
    "        scaled_rfm = pd.DataFrame(scaled_rfm, index=df_rfm.index, columns=df_rfm.columns)\n",
    "        return scaled_rfm\n",
    "    \n",
    "    def elbow_plot(self, scaled_df):\n",
    "        kmeans_per_k = [KMeans(n_clusters=k, init='k-means++', max_iter=300, n_init=10, random_state=42).fit(scaled_df) for k in range(1,10)]\n",
    "        wcss = [model.inertia_ for model in kmeans_per_k]        \n",
    "        plt.figure(figsize=(12, 9))\n",
    "        plt.plot(range(1,10), wcss, 'bo-')\n",
    "        plt.xlabel('$k$', fontsize=14)\n",
    "        plt.ylabel('$wcss$', fontsize=14)\n",
    "        plt.show()\n",
    "\n",
    "    def silhouette_score(self, scaled_df):\n",
    "        kmeans_per_k = [KMeans(n_clusters=k, init='k-means++', max_iter=300, n_init=10, random_state=42).fit(scaled_df) for k in range(1,10)]\n",
    "        silhouette_scores = [silhouette_score(scaled_df, model.labels_) for model in kmeans_per_k[1:]]\n",
    "        plt.figure(figsize=(12,9))\n",
    "        plt.plot(range(2,10), silhouette_scores, 'bo-')\n",
    "        plt.xlabel(\"$k$\", fontsize=14)\n",
    "        plt.ylabel('silhouette score', fontsize=14)\n",
    "        plt.show()"
   ]
  },
  {
   "cell_type": "code",
   "execution_count": 25,
   "metadata": {},
   "outputs": [
    {
     "data": {
      "image/png": "[encoded data removed]",
      "text/plain": [
       "<Figure size 864x648 with 1 Axes>"
      ]
     },
     "metadata": {
      "needs_background": "light"
     },
     "output_type": "display_data"
    }
   ],
   "source": [
    "seg = Segmentation(df_rfm)\n",
    "scaled_df = seg.scaler()\n",
    "seg.elbow_plot(scaled_df)"
   ]
  },
  {
   "attachments": {},
   "cell_type": "markdown",
   "metadata": {},
   "source": [
    "- In the above elbow plot, 4 seems to be the optimal value for $k$, but let's double check with the silhouette score"
   ]
  },
  {
   "cell_type": "code",
   "execution_count": 26,
   "metadata": {},
   "outputs": [
    {
     "data": {
      "image/png": "[encoded data removed]",
      "text/plain": [
       "<Figure size 864x648 with 1 Axes>"
      ]
     },
     "metadata": {
      "needs_background": "light"
     },
     "output_type": "display_data"
    }
   ],
   "source": [
    "seg.silhouette_score(scaled_df)"
   ]
  },
  {
   "attachments": {},
   "cell_type": "markdown",
   "metadata": {},
   "source": [
    "- As expected, when $k=4$, the model achieved the maximum silhouette score so let's do the clustering with the $k=4$"
   ]
  },
  {
   "attachments": {},
   "cell_type": "markdown",
   "metadata": {},
   "source": [
    "### Implement clustering with the optimal k"
   ]
  },
  {
   "cell_type": "code",
   "execution_count": 52,
   "metadata": {},
   "outputs": [
    {
     "data": {
      "text/plain": [
       "array([0, 1, 2, 3], dtype=int32)"
      ]
     },
     "execution_count": 52,
     "metadata": {},
     "output_type": "execute_result"
    }
   ],
   "source": [
    "#scaling\n",
    "scaler = StandardScaler()\n",
    "normalized_rfm = scaler.fit_transform(df_rfm)\n",
    "normalized_rfm = pd.DataFrame(normalized_rfm, index=df_rfm.index, columns=df_rfm.columns)\n",
    "normalized_rfm\n",
    "#kmeans\n",
    "kmeans = KMeans(n_clusters=4, init='k-means++', max_iter=300, n_init=10, random_state=42)\n",
    "kmeans.fit(normalized_rfm)\n",
    "np.unique(kmeans.labels_)"
   ]
  },
  {
   "attachments": {},
   "cell_type": "markdown",
   "metadata": {},
   "source": [
    "- Now, we got the final four clusters (0, 1, 2, 3)"
   ]
  },
  {
   "cell_type": "code",
   "execution_count": 55,
   "metadata": {},
   "outputs": [
    {
     "data": {
      "text/html": [
       "<div>\n",
       "<style scoped>\n",
       "    .dataframe tbody tr th:only-of-type {\n",
       "        vertical-align: middle;\n",
       "    }\n",
       "\n",
       "    .dataframe tbody tr th {\n",
       "        vertical-align: top;\n",
       "    }\n",
       "\n",
       "    .dataframe thead th {\n",
       "        text-align: right;\n",
       "    }\n",
       "</style>\n",
       "<table border=\"1\" class=\"dataframe\">\n",
       "  <thead>\n",
       "    <tr style=\"text-align: right;\">\n",
       "      <th></th>\n",
       "      <th>frequency</th>\n",
       "      <th>monetary</th>\n",
       "      <th>recency</th>\n",
       "      <th>cluster</th>\n",
       "    </tr>\n",
       "    <tr>\n",
       "      <th>customer_unique_id</th>\n",
       "      <th></th>\n",
       "      <th></th>\n",
       "      <th></th>\n",
       "      <th></th>\n",
       "    </tr>\n",
       "  </thead>\n",
       "  <tbody>\n",
       "    <tr>\n",
       "      <th>0000b849f77a49e4a4ce2b2a4ca5be3f</th>\n",
       "      <td>111.0</td>\n",
       "      <td>136.26</td>\n",
       "      <td>169</td>\n",
       "      <td>0</td>\n",
       "    </tr>\n",
       "    <tr>\n",
       "      <th>0000f46a3911fa3c0805444483337064</th>\n",
       "      <td>134.0</td>\n",
       "      <td>583.87</td>\n",
       "      <td>125</td>\n",
       "      <td>0</td>\n",
       "    </tr>\n",
       "    <tr>\n",
       "      <th>0004bd2a26a76fe21f786e4fbd80607f</th>\n",
       "      <td>218.5</td>\n",
       "      <td>336.11</td>\n",
       "      <td>7</td>\n",
       "      <td>2</td>\n",
       "    </tr>\n",
       "    <tr>\n",
       "      <th>00050ab1314c0e55a6ca13cf7181fecf</th>\n",
       "      <td>0.0</td>\n",
       "      <td>80.18</td>\n",
       "      <td>219</td>\n",
       "      <td>3</td>\n",
       "    </tr>\n",
       "    <tr>\n",
       "      <th>0005ef4cd20d2893f0d9fbd94d3c0d97</th>\n",
       "      <td>0.0</td>\n",
       "      <td>187.91</td>\n",
       "      <td>481</td>\n",
       "      <td>3</td>\n",
       "    </tr>\n",
       "    <tr>\n",
       "      <th>...</th>\n",
       "      <td>...</td>\n",
       "      <td>...</td>\n",
       "      <td>...</td>\n",
       "      <td>...</td>\n",
       "    </tr>\n",
       "    <tr>\n",
       "      <th>fffa431dd3fcdefea4b1777d114144f2</th>\n",
       "      <td>188.0</td>\n",
       "      <td>1643.43</td>\n",
       "      <td>162</td>\n",
       "      <td>1</td>\n",
       "    </tr>\n",
       "    <tr>\n",
       "      <th>fffb09418989a0dbff854a28163e47c6</th>\n",
       "      <td>0.0</td>\n",
       "      <td>329.38</td>\n",
       "      <td>293</td>\n",
       "      <td>3</td>\n",
       "    </tr>\n",
       "    <tr>\n",
       "      <th>fffbf87b7a1a6fa8b03f081c5f51a201</th>\n",
       "      <td>209.0</td>\n",
       "      <td>199.50</td>\n",
       "      <td>51</td>\n",
       "      <td>2</td>\n",
       "    </tr>\n",
       "    <tr>\n",
       "      <th>fffcc512b7dfecaffd80f13614af1d16</th>\n",
       "      <td>0.0</td>\n",
       "      <td>45.10</td>\n",
       "      <td>355</td>\n",
       "      <td>3</td>\n",
       "    </tr>\n",
       "    <tr>\n",
       "      <th>fffea47cd6d3cc0a88bd621562a9d061</th>\n",
       "      <td>84.0</td>\n",
       "      <td>366.08</td>\n",
       "      <td>406</td>\n",
       "      <td>3</td>\n",
       "    </tr>\n",
       "  </tbody>\n",
       "</table>\n",
       "<p>41431 rows × 4 columns</p>\n",
       "</div>"
      ],
      "text/plain": [
       "                                  frequency  monetary  recency  cluster\n",
       "customer_unique_id                                                     \n",
       "0000b849f77a49e4a4ce2b2a4ca5be3f      111.0    136.26      169        0\n",
       "0000f46a3911fa3c0805444483337064      134.0    583.87      125        0\n",
       "0004bd2a26a76fe21f786e4fbd80607f      218.5    336.11        7        2\n",
       "00050ab1314c0e55a6ca13cf7181fecf        0.0     80.18      219        3\n",
       "0005ef4cd20d2893f0d9fbd94d3c0d97        0.0    187.91      481        3\n",
       "...                                     ...       ...      ...      ...\n",
       "fffa431dd3fcdefea4b1777d114144f2      188.0   1643.43      162        1\n",
       "fffb09418989a0dbff854a28163e47c6        0.0    329.38      293        3\n",
       "fffbf87b7a1a6fa8b03f081c5f51a201      209.0    199.50       51        2\n",
       "fffcc512b7dfecaffd80f13614af1d16        0.0     45.10      355        3\n",
       "fffea47cd6d3cc0a88bd621562a9d061       84.0    366.08      406        3\n",
       "\n",
       "[41431 rows x 4 columns]"
      ]
     },
     "execution_count": 55,
     "metadata": {},
     "output_type": "execute_result"
    }
   ],
   "source": [
    "df_clusters = df_rfm.assign(cluster=kmeans.labels_)\n",
    "df_clusters"
   ]
  },
  {
   "attachments": {},
   "cell_type": "markdown",
   "metadata": {},
   "source": [
    "### Calculate relative importance of each features (RFM) in each cluster"
   ]
  },
  {
   "cell_type": "code",
   "execution_count": 58,
   "metadata": {},
   "outputs": [
    {
     "data": {
      "text/html": [
       "<div>\n",
       "<style scoped>\n",
       "    .dataframe tbody tr th:only-of-type {\n",
       "        vertical-align: middle;\n",
       "    }\n",
       "\n",
       "    .dataframe tbody tr th {\n",
       "        vertical-align: top;\n",
       "    }\n",
       "\n",
       "    .dataframe thead th {\n",
       "        text-align: right;\n",
       "    }\n",
       "</style>\n",
       "<table border=\"1\" class=\"dataframe\">\n",
       "  <thead>\n",
       "    <tr style=\"text-align: right;\">\n",
       "      <th></th>\n",
       "      <th>recency</th>\n",
       "      <th>frequency</th>\n",
       "      <th>monetary</th>\n",
       "    </tr>\n",
       "    <tr>\n",
       "      <th>cluster</th>\n",
       "      <th></th>\n",
       "      <th></th>\n",
       "      <th></th>\n",
       "    </tr>\n",
       "  </thead>\n",
       "  <tbody>\n",
       "    <tr>\n",
       "      <th>0</th>\n",
       "      <td>102.074442</td>\n",
       "      <td>63.589655</td>\n",
       "      <td>312.435149</td>\n",
       "    </tr>\n",
       "    <tr>\n",
       "      <th>1</th>\n",
       "      <td>104.257726</td>\n",
       "      <td>106.967267</td>\n",
       "      <td>1354.800691</td>\n",
       "    </tr>\n",
       "    <tr>\n",
       "      <th>2</th>\n",
       "      <td>97.901310</td>\n",
       "      <td>265.623301</td>\n",
       "      <td>320.361553</td>\n",
       "    </tr>\n",
       "    <tr>\n",
       "      <th>3</th>\n",
       "      <td>343.591556</td>\n",
       "      <td>24.287498</td>\n",
       "      <td>195.598995</td>\n",
       "    </tr>\n",
       "  </tbody>\n",
       "</table>\n",
       "</div>"
      ],
      "text/plain": [
       "            recency   frequency     monetary\n",
       "cluster                                     \n",
       "0        102.074442   63.589655   312.435149\n",
       "1        104.257726  106.967267  1354.800691\n",
       "2         97.901310  265.623301   320.361553\n",
       "3        343.591556   24.287498   195.598995"
      ]
     },
     "execution_count": 58,
     "metadata": {},
     "output_type": "execute_result"
    }
   ],
   "source": [
    "df_grouped = df_clusters.groupby(['cluster']).agg({\n",
    "    'recency':'mean',\n",
    "    'frequency':'mean',\n",
    "    'monetary':'mean'\n",
    "})\n",
    "df_grouped"
   ]
  },
  {
   "cell_type": "code",
   "execution_count": 63,
   "metadata": {},
   "outputs": [
    {
     "data": {
      "text/html": [
       "<div>\n",
       "<style scoped>\n",
       "    .dataframe tbody tr th:only-of-type {\n",
       "        vertical-align: middle;\n",
       "    }\n",
       "\n",
       "    .dataframe tbody tr th {\n",
       "        vertical-align: top;\n",
       "    }\n",
       "\n",
       "    .dataframe thead th {\n",
       "        text-align: right;\n",
       "    }\n",
       "</style>\n",
       "<table border=\"1\" class=\"dataframe\">\n",
       "  <thead>\n",
       "    <tr style=\"text-align: right;\">\n",
       "      <th></th>\n",
       "      <th>recency</th>\n",
       "      <th>frequency</th>\n",
       "      <th>monetary</th>\n",
       "    </tr>\n",
       "    <tr>\n",
       "      <th>cluster</th>\n",
       "      <th></th>\n",
       "      <th></th>\n",
       "      <th></th>\n",
       "    </tr>\n",
       "  </thead>\n",
       "  <tbody>\n",
       "    <tr>\n",
       "      <th>0</th>\n",
       "      <td>-0.363590</td>\n",
       "      <td>-0.347209</td>\n",
       "      <td>-0.159605</td>\n",
       "    </tr>\n",
       "    <tr>\n",
       "      <th>1</th>\n",
       "      <td>-0.349977</td>\n",
       "      <td>0.098092</td>\n",
       "      <td>2.644175</td>\n",
       "    </tr>\n",
       "    <tr>\n",
       "      <th>2</th>\n",
       "      <td>-0.389608</td>\n",
       "      <td>1.726804</td>\n",
       "      <td>-0.138284</td>\n",
       "    </tr>\n",
       "    <tr>\n",
       "      <th>3</th>\n",
       "      <td>1.142213</td>\n",
       "      <td>-0.750672</td>\n",
       "      <td>-0.473873</td>\n",
       "    </tr>\n",
       "  </tbody>\n",
       "</table>\n",
       "</div>"
      ],
      "text/plain": [
       "          recency  frequency  monetary\n",
       "cluster                               \n",
       "0       -0.363590  -0.347209 -0.159605\n",
       "1       -0.349977   0.098092  2.644175\n",
       "2       -0.389608   1.726804 -0.138284\n",
       "3        1.142213  -0.750672 -0.473873"
      ]
     },
     "execution_count": 63,
     "metadata": {},
     "output_type": "execute_result"
    }
   ],
   "source": [
    "df_rfm = df_rfm[['recency', 'frequency', 'monetary']]\n",
    "relative_importance = df_grouped / df_rfm.mean() - 1\n",
    "relative_importance"
   ]
  },
  {
   "cell_type": "code",
   "execution_count": null,
   "metadata": {},
   "outputs": [],
   "source": []
  }
 ],
 "metadata": {
  "kernelspec": {
   "display_name": "Python 3",
   "language": "python",
   "name": "python3"
  },
  "language_info": {
   "codemirror_mode": {
    "name": "ipython",
    "version": 3
   },
   "file_extension": ".py",
   "mimetype": "text/x-python",
   "name": "python",
   "nbconvert_exporter": "python",
   "pygments_lexer": "ipython3",
   "version": "3.10.1"
  },
  "orig_nbformat": 4
 },
 "nbformat": 4,
 "nbformat_minor": 2
}
